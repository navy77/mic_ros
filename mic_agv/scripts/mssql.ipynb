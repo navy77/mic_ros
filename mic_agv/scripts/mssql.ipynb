{
 "cells": [
  {
   "cell_type": "code",
   "execution_count": 50,
   "metadata": {},
   "outputs": [],
   "source": [
    "import pyodbc\n",
    "server = '192.168.1.2\\SQLEXPRESS'\n",
    "database = 'Test'\n",
    "username = 'sa'\n",
    "password = 'sa@admin123qwe'\n",
    "driver = 'ODBC Driver 18 for SQL Server'\n",
    "cnxn = pyodbc.connect('DRIVER='+driver+';SERVER='+server+';PORT=1433;DATABASE='+database+';ENCRYPT=no;UID='+username+'; PWD='+ password)\n",
    "cursor = cnxn.cursor()\n"
   ]
  },
  {
   "cell_type": "code",
   "execution_count": null,
   "metadata": {},
   "outputs": [],
   "source": [
    "cursor.execute(\"SELECT * FROM ubuntu\")\n",
    "row = cursor.fetchone()\n",
    "while row:\n",
    "    print(row[0]+\"::\"+row[1])\n",
    "    row = cursor.fetchone()"
   ]
  },
  {
   "cell_type": "code",
   "execution_count": 77,
   "metadata": {},
   "outputs": [],
   "source": [
    "name = 'A001'\n",
    "value = 543\n",
    "data = (name,value)\n",
    "sql = \"\"\"INSERT INTO ubuntu (A,B) VALUES(?,?)\"\"\"\n",
    "# cursor.execute(\"\"\"INSERT INTO ubuntu (A,B) VALUES(?,?)\"\"\",('aaa',334))\n",
    "cursor.execute(sql,data)\n",
    "cnxn.commit()"
   ]
  },
  {
   "cell_type": "code",
   "execution_count": 51,
   "metadata": {},
   "outputs": [],
   "source": [
    "cursor.execute(\"SELECT * FROM oat\")\n",
    "row = cursor.fetchone()\n",
    "while row:\n",
    "    print(row[0]+\"::\"+row[1])\n",
    "    row = cursor.fetchone()"
   ]
  },
  {
   "cell_type": "code",
   "execution_count": 79,
   "metadata": {},
   "outputs": [
    {
     "name": "stdout",
     "output_type": "stream",
     "text": [
      "2023-08-16 16:56:35\n"
     ]
    }
   ],
   "source": [
    "from datetime import datetime\n",
    "now = datetime.now()\n",
    "id = 1\n",
    "formatted_date = now.strftime('%Y-%m-%d %H:%M:%S')\n",
    "print(formatted_date)"
   ]
  },
  {
   "cell_type": "code",
   "execution_count": null,
   "metadata": {},
   "outputs": [],
   "source": [
    "cursor.execute(\"\"\"INSERT INTO oat (time,count) VALUES(formatted_date,1)\"\"\")\n",
    "cnxn.commit()"
   ]
  },
  {
   "cell_type": "code",
   "execution_count": 29,
   "metadata": {},
   "outputs": [
    {
     "name": "stdout",
     "output_type": "stream",
     "text": [
      "Database connected successfully\n"
     ]
    }
   ],
   "source": [
    "import psycopg2\n",
    "\n",
    "DB_NAME = \"database_1\"\n",
    "DB_USER = \"arthit\"\n",
    "DB_PASS = \"123qwe\"\n",
    "DB_HOST = \"192.168.1.102\"\n",
    "DB_PORT = \"5432\"\n",
    "try:\n",
    "\tconn = psycopg2.connect(database=DB_NAME,\n",
    "\t\t\t\t\t\t\tuser=DB_USER,\n",
    "\t\t\t\t\t\t\tpassword=DB_PASS,\n",
    "\t\t\t\t\t\t\thost=DB_HOST,\n",
    "\t\t\t\t\t\t\tport=DB_PORT)\n",
    "\tprint(\"Database connected successfully\")\n",
    "except:\n",
    "\tprint(\"Database not connected successfully\")"
   ]
  },
  {
   "cell_type": "code",
   "execution_count": 21,
   "metadata": {},
   "outputs": [],
   "source": [
    "import paho.mqtt.subscribe as subscribe\n",
    "import paho.mqtt.client as mqtt"
   ]
  },
  {
   "cell_type": "code",
   "execution_count": 20,
   "metadata": {},
   "outputs": [
    {
     "data": {
      "text/plain": [
       "0"
      ]
     },
     "execution_count": 20,
     "metadata": {},
     "output_type": "execute_result"
    }
   ],
   "source": [
    "host = '192.168.1.6'\n",
    "port = 1883\n",
    "topic = 'inTopic'\n",
    "client = mqtt.Client()\n",
    "client.connect(host, port)"
   ]
  },
  {
   "cell_type": "code",
   "execution_count": 19,
   "metadata": {},
   "outputs": [],
   "source": [
    "def main():\n",
    "    global msg_payload\n",
    "    msg = subscribe.simple(topics=str(topic), hostname=host,port=port)\n",
    "    msg_payload = msg.payload.decode(\"utf-8\", \"strict\")\n",
    "    print(msg_payload)"
   ]
  },
  {
   "cell_type": "code",
   "execution_count": null,
   "metadata": {},
   "outputs": [],
   "source": [
    "main()"
   ]
  },
  {
   "cell_type": "code",
   "execution_count": 30,
   "metadata": {},
   "outputs": [],
   "source": [
    "def publish():\n",
    "    client.publish('/ros_mqtt', \"123456\")"
   ]
  },
  {
   "cell_type": "code",
   "execution_count": 29,
   "metadata": {},
   "outputs": [],
   "source": [
    "publish()"
   ]
  },
  {
   "cell_type": "markdown",
   "metadata": {},
   "source": [
    "TCP"
   ]
  },
  {
   "cell_type": "code",
   "execution_count": 14,
   "metadata": {},
   "outputs": [
    {
     "name": "stdout",
     "output_type": "stream",
     "text": [
      "Connected by ('192.168.1.101', 41574)\n"
     ]
    }
   ],
   "source": [
    "import socket\n",
    "\n",
    "HOST = \"192.168.1.101\"  # Standard loopback interface address (localhost)\n",
    "PORT = 65432  # Port to listen on (non-privileged ports are > 1023)\n",
    "\n",
    "with socket.socket(socket.AF_INET, socket.SOCK_STREAM) as s:\n",
    "    s.bind((HOST, PORT))\n",
    "    s.listen()\n",
    "    conn, addr = s.accept()\n",
    "    with conn:\n",
    "        print(f\"Connected by {addr}\")\n",
    "        while True:\n",
    "            data = conn.recv(1024)\n",
    "            if not data:\n",
    "                break\n",
    "            conn.sendall(data)"
   ]
  },
  {
   "cell_type": "code",
   "execution_count": null,
   "metadata": {},
   "outputs": [],
   "source": [
    "import socket\n",
    "\n",
    "HOST = \"192.168.1.101\"  # The server's hostname or IP address\n",
    "PORT = 65432  # The port used by the server\n",
    "\n",
    "with socket.socket(socket.AF_INET, socket.SOCK_STREAM) as s:\n",
    "    s.connect((HOST, PORT))\n",
    "    s.sendall(b\"Hello, world\")\n",
    "    data = s.recv(1024)\n",
    "\n",
    "print(f\"Received {data!r}\")"
   ]
  }
 ],
 "metadata": {
  "kernelspec": {
   "display_name": "Python 3",
   "language": "python",
   "name": "python3"
  },
  "language_info": {
   "codemirror_mode": {
    "name": "ipython",
    "version": 3
   },
   "file_extension": ".py",
   "mimetype": "text/x-python",
   "name": "python",
   "nbconvert_exporter": "python",
   "pygments_lexer": "ipython3",
   "version": "3.8.10"
  },
  "orig_nbformat": 4
 },
 "nbformat": 4,
 "nbformat_minor": 2
}
